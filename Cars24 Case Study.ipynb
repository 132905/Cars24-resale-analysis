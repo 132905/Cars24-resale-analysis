{
 "cells": [
  {
   "cell_type": "code",
   "execution_count": 1,
   "id": "3df96c8d-5718-406e-94fa-a9c32de689e1",
   "metadata": {},
   "outputs": [],
   "source": [
    "import numpy as np\n",
    "import pandas as pd"
   ]
  },
  {
   "cell_type": "code",
   "execution_count": 2,
   "id": "79ea6362-a099-4ca5-8aef-d5dd53d463bb",
   "metadata": {},
   "outputs": [],
   "source": [
    "df = pd.read_csv(r\"C:\\Users\\HM7\\OneDrive\\Desktop\\AI-ML\\Python Case Studies\\Cars24 Case Study\\cars.csv\")"
   ]
  },
  {
   "cell_type": "markdown",
   "id": "c26b3fe6-8052-4efc-b0e7-ad4e882f660d",
   "metadata": {},
   "source": [
    "## 🔍 Basic Data Exploration Questions"
   ]
  },
  {
   "cell_type": "code",
   "execution_count": 111,
   "id": "13900ff2-8343-48d0-814d-60573d153cf8",
   "metadata": {},
   "outputs": [],
   "source": [
    "# df.drop(columns=['New_Price'], inplace=True)\n",
    "# - Dropped the New_Price column as didn't had any useful data."
   ]
  },
  {
   "cell_type": "markdown",
   "id": "2ea7a0e8-baf7-4a6d-afd6-ded815f3fd50",
   "metadata": {},
   "source": [
    "1.\tDisplay the first 5 rows of the dataset."
   ]
  },
  {
   "cell_type": "code",
   "execution_count": 112,
   "id": "d59fbbb7-6b0e-4e85-a646-077356a00c9e",
   "metadata": {},
   "outputs": [
    {
     "name": "stdout",
     "output_type": "stream",
     "text": [
      "\n",
      "First 5 rows of the dataset:\n"
     ]
    },
    {
     "data": {
      "text/html": [
       "<div>\n",
       "<style scoped>\n",
       "    .dataframe tbody tr th:only-of-type {\n",
       "        vertical-align: middle;\n",
       "    }\n",
       "\n",
       "    .dataframe tbody tr th {\n",
       "        vertical-align: top;\n",
       "    }\n",
       "\n",
       "    .dataframe thead th {\n",
       "        text-align: right;\n",
       "    }\n",
       "</style>\n",
       "<table border=\"1\" class=\"dataframe\">\n",
       "  <thead>\n",
       "    <tr style=\"text-align: right;\">\n",
       "      <th></th>\n",
       "      <th>S.No.</th>\n",
       "      <th>Name</th>\n",
       "      <th>Location</th>\n",
       "      <th>Year</th>\n",
       "      <th>Kilometers_Driven</th>\n",
       "      <th>Fuel_Type</th>\n",
       "      <th>Transmission</th>\n",
       "      <th>Owner_Type</th>\n",
       "      <th>Mileage</th>\n",
       "      <th>KM</th>\n",
       "      <th>Power</th>\n",
       "      <th>MM</th>\n",
       "      <th>Price</th>\n",
       "    </tr>\n",
       "  </thead>\n",
       "  <tbody>\n",
       "    <tr>\n",
       "      <th>0</th>\n",
       "      <td>0</td>\n",
       "      <td>Maruti Wagon R LXI CNG</td>\n",
       "      <td>Mumbai</td>\n",
       "      <td>2010</td>\n",
       "      <td>72000</td>\n",
       "      <td>CNG</td>\n",
       "      <td>Manual</td>\n",
       "      <td>First</td>\n",
       "      <td>26.60</td>\n",
       "      <td>km/kg</td>\n",
       "      <td>58.16</td>\n",
       "      <td>bhp</td>\n",
       "      <td>1.75</td>\n",
       "    </tr>\n",
       "    <tr>\n",
       "      <th>1</th>\n",
       "      <td>1</td>\n",
       "      <td>Hyundai Creta 1.6 CRDi SX Option</td>\n",
       "      <td>Pune</td>\n",
       "      <td>2015</td>\n",
       "      <td>41000</td>\n",
       "      <td>Diesel</td>\n",
       "      <td>Manual</td>\n",
       "      <td>First</td>\n",
       "      <td>19.67</td>\n",
       "      <td>kmpl</td>\n",
       "      <td>126.20</td>\n",
       "      <td>bhp</td>\n",
       "      <td>12.50</td>\n",
       "    </tr>\n",
       "    <tr>\n",
       "      <th>2</th>\n",
       "      <td>2</td>\n",
       "      <td>Honda Jazz V</td>\n",
       "      <td>Chennai</td>\n",
       "      <td>2011</td>\n",
       "      <td>46000</td>\n",
       "      <td>Petrol</td>\n",
       "      <td>Manual</td>\n",
       "      <td>First</td>\n",
       "      <td>18.20</td>\n",
       "      <td>kmpl</td>\n",
       "      <td>88.70</td>\n",
       "      <td>bhp</td>\n",
       "      <td>4.50</td>\n",
       "    </tr>\n",
       "    <tr>\n",
       "      <th>3</th>\n",
       "      <td>3</td>\n",
       "      <td>Maruti Ertiga VDI</td>\n",
       "      <td>Chennai</td>\n",
       "      <td>2012</td>\n",
       "      <td>87000</td>\n",
       "      <td>Diesel</td>\n",
       "      <td>Manual</td>\n",
       "      <td>First</td>\n",
       "      <td>20.77</td>\n",
       "      <td>kmpl</td>\n",
       "      <td>88.76</td>\n",
       "      <td>bhp</td>\n",
       "      <td>6.00</td>\n",
       "    </tr>\n",
       "    <tr>\n",
       "      <th>4</th>\n",
       "      <td>4</td>\n",
       "      <td>Audi A4 New 2.0 TDI Multitronic</td>\n",
       "      <td>Coimbatore</td>\n",
       "      <td>2013</td>\n",
       "      <td>40670</td>\n",
       "      <td>Diesel</td>\n",
       "      <td>Automatic</td>\n",
       "      <td>Second</td>\n",
       "      <td>15.20</td>\n",
       "      <td>kmpl</td>\n",
       "      <td>140.80</td>\n",
       "      <td>bhp</td>\n",
       "      <td>17.74</td>\n",
       "    </tr>\n",
       "  </tbody>\n",
       "</table>\n",
       "</div>"
      ],
      "text/plain": [
       "   S.No.                              Name    Location  Year  \\\n",
       "0      0            Maruti Wagon R LXI CNG      Mumbai  2010   \n",
       "1      1  Hyundai Creta 1.6 CRDi SX Option        Pune  2015   \n",
       "2      2                      Honda Jazz V     Chennai  2011   \n",
       "3      3                 Maruti Ertiga VDI     Chennai  2012   \n",
       "4      4   Audi A4 New 2.0 TDI Multitronic  Coimbatore  2013   \n",
       "\n",
       "   Kilometers_Driven Fuel_Type Transmission Owner_Type  Mileage     KM  \\\n",
       "0              72000       CNG       Manual      First    26.60  km/kg   \n",
       "1              41000    Diesel       Manual      First    19.67   kmpl   \n",
       "2              46000    Petrol       Manual      First    18.20   kmpl   \n",
       "3              87000    Diesel       Manual      First    20.77   kmpl   \n",
       "4              40670    Diesel    Automatic     Second    15.20   kmpl   \n",
       "\n",
       "    Power   MM  Price  \n",
       "0   58.16  bhp   1.75  \n",
       "1  126.20  bhp  12.50  \n",
       "2   88.70  bhp   4.50  \n",
       "3   88.76  bhp   6.00  \n",
       "4  140.80  bhp  17.74  "
      ]
     },
     "execution_count": 112,
     "metadata": {},
     "output_type": "execute_result"
    }
   ],
   "source": [
    "print(\"\\nFirst 5 rows of the dataset:\")\n",
    "df.head()"
   ]
  },
  {
   "cell_type": "markdown",
   "id": "03b55ac0-886c-4454-bfc9-e73779273ea1",
   "metadata": {},
   "source": [
    "2.\tCheck the number of missing values in each column."
   ]
  },
  {
   "cell_type": "code",
   "execution_count": 113,
   "id": "4009296c-3809-4683-b332-d710855c13c7",
   "metadata": {},
   "outputs": [
    {
     "name": "stdout",
     "output_type": "stream",
     "text": [
      "\n",
      "Number of missing values in each column:\n"
     ]
    },
    {
     "data": {
      "text/plain": [
       "S.No.                   0\n",
       "Name                    0\n",
       "Location                0\n",
       "Year                    0\n",
       "Kilometers_Driven       0\n",
       "Fuel_Type               0\n",
       "Transmission            0\n",
       "Owner_Type              0\n",
       "Mileage                 2\n",
       "KM                      2\n",
       "Power                 175\n",
       "MM                     46\n",
       "Price                1234\n",
       "dtype: int64"
      ]
     },
     "execution_count": 113,
     "metadata": {},
     "output_type": "execute_result"
    }
   ],
   "source": [
    "print(\"\\nNumber of missing values in each column:\")\n",
    "df.isnull().sum()"
   ]
  },
  {
   "cell_type": "markdown",
   "id": "95e80260-29b5-4888-9f94-f78351224c60",
   "metadata": {},
   "source": [
    "3.\tWhat is the data type of each column?"
   ]
  },
  {
   "cell_type": "code",
   "execution_count": 114,
   "id": "30c7fc30-64e7-4d7c-93c6-4c4c4d4d9f55",
   "metadata": {},
   "outputs": [
    {
     "name": "stdout",
     "output_type": "stream",
     "text": [
      "\n",
      "Data type of each column:\n"
     ]
    },
    {
     "data": {
      "text/plain": [
       "S.No.                  int64\n",
       "Name                  object\n",
       "Location              object\n",
       "Year                   int64\n",
       "Kilometers_Driven      int64\n",
       "Fuel_Type             object\n",
       "Transmission          object\n",
       "Owner_Type            object\n",
       "Mileage              float64\n",
       "KM                    object\n",
       "Power                float64\n",
       "MM                    object\n",
       "Price                float64\n",
       "dtype: object"
      ]
     },
     "execution_count": 114,
     "metadata": {},
     "output_type": "execute_result"
    }
   ],
   "source": [
    "print(\"\\nData type of each column:\")\n",
    "df.dtypes"
   ]
  },
  {
   "cell_type": "markdown",
   "id": "4f035a3d-382c-4e38-ab1b-c33a559ec8a8",
   "metadata": {},
   "source": [
    "4.\tHow many unique car models are there?"
   ]
  },
  {
   "cell_type": "code",
   "execution_count": 117,
   "id": "abe1be84-4605-4c04-af11-9c7017111f21",
   "metadata": {},
   "outputs": [
    {
     "name": "stdout",
     "output_type": "stream",
     "text": [
      "\n",
      "Number of unique car models:\n"
     ]
    },
    {
     "data": {
      "text/plain": [
       "2041"
      ]
     },
     "execution_count": 117,
     "metadata": {},
     "output_type": "execute_result"
    }
   ],
   "source": [
    "print(\"\\nNumber of unique car models:\")\n",
    "df['Name'].nunique()"
   ]
  },
  {
   "cell_type": "markdown",
   "id": "1c835e3d-6258-4356-b01b-d3c222f6bced",
   "metadata": {},
   "source": [
    "5.\tWhich columns have null values, and how would you handle them?"
   ]
  },
  {
   "cell_type": "code",
   "execution_count": 118,
   "id": "c4f51ca9-cb77-4ed1-8a33-d0ee031192ab",
   "metadata": {},
   "outputs": [
    {
     "name": "stdout",
     "output_type": "stream",
     "text": [
      "\n",
      "Columns with null values:\n"
     ]
    },
    {
     "data": {
      "text/plain": [
       "['Mileage', 'KM', 'Power', 'MM', 'Price']"
      ]
     },
     "execution_count": 118,
     "metadata": {},
     "output_type": "execute_result"
    }
   ],
   "source": [
    "print(\"\\nColumns with null values:\")\n",
    "null_values = df.columns[df.isnull().any()].tolist()\n",
    "null_values"
   ]
  },
  {
   "cell_type": "code",
   "execution_count": 120,
   "id": "866c409f-26ae-4981-85d9-8a5332efa472",
   "metadata": {},
   "outputs": [
    {
     "data": {
      "text/plain": [
       "Mileage       2\n",
       "KM            2\n",
       "Power       175\n",
       "MM           46\n",
       "Price      1234\n",
       "dtype: int64"
      ]
     },
     "execution_count": 120,
     "metadata": {},
     "output_type": "execute_result"
    }
   ],
   "source": [
    "df[['Mileage', 'KM', 'Power', 'MM', 'Price']].isna().sum()"
   ]
  },
  {
   "cell_type": "markdown",
   "id": "5e5bab7a-b9c7-4ce7-8bbb-3febf9121dfa",
   "metadata": {},
   "source": [
    "Columns 'Power' and 'Price' have significant missing values. So proper consideration is required before dealing with it.\n",
    "Columns 'Mileage' and 'KM' can be dealt with by removing them."
   ]
  },
  {
   "cell_type": "code",
   "execution_count": 134,
   "id": "ae9bd1d4-4b16-47e0-bb6f-44c83f4f0d56",
   "metadata": {},
   "outputs": [],
   "source": [
    "df.dropna(subset= ['Mileage', 'KM'], inplace=True)"
   ]
  },
  {
   "cell_type": "code",
   "execution_count": 135,
   "id": "0b980f82-b142-4134-afcd-2727de59bcf5",
   "metadata": {},
   "outputs": [
    {
     "data": {
      "text/plain": [
       "S.No.                   0\n",
       "Name                    0\n",
       "Location                0\n",
       "Year                    0\n",
       "Kilometers_Driven       0\n",
       "Fuel_Type               0\n",
       "Transmission            0\n",
       "Owner_Type              0\n",
       "Mileage                 0\n",
       "KM                      0\n",
       "Power                   0\n",
       "MM                     46\n",
       "Price                1234\n",
       "dtype: int64"
      ]
     },
     "execution_count": 135,
     "metadata": {},
     "output_type": "execute_result"
    }
   ],
   "source": [
    "df.isna().sum()"
   ]
  },
  {
   "cell_type": "code",
   "execution_count": 132,
   "id": "738aee2d-a8c8-4275-9944-b857d39fda22",
   "metadata": {},
   "outputs": [],
   "source": [
    "df['Power'].fillna(df.Power.mean(), inplace=True)"
   ]
  },
  {
   "cell_type": "code",
   "execution_count": 133,
   "id": "e48f1935-f26f-49db-b891-7499af2e1813",
   "metadata": {},
   "outputs": [
    {
     "data": {
      "text/plain": [
       "S.No.                   0\n",
       "Name                    0\n",
       "Location                0\n",
       "Year                    0\n",
       "Kilometers_Driven       0\n",
       "Fuel_Type               0\n",
       "Transmission            0\n",
       "Owner_Type              0\n",
       "Mileage                 2\n",
       "KM                      2\n",
       "Power                   0\n",
       "MM                     46\n",
       "Price                1234\n",
       "dtype: int64"
      ]
     },
     "execution_count": 133,
     "metadata": {},
     "output_type": "execute_result"
    }
   ],
   "source": [
    "df.isna().sum()"
   ]
  },
  {
   "cell_type": "code",
   "execution_count": 136,
   "id": "e59efe96-36c1-4f77-bf2d-04eaeda7d35d",
   "metadata": {},
   "outputs": [],
   "source": [
    "df['Price'].fillna(df.Price.mean(), inplace=True)"
   ]
  },
  {
   "cell_type": "code",
   "execution_count": 137,
   "id": "92dae9b8-6cf8-4e38-b7f1-c7d132ef1209",
   "metadata": {},
   "outputs": [
    {
     "data": {
      "text/plain": [
       "S.No.                 0\n",
       "Name                  0\n",
       "Location              0\n",
       "Year                  0\n",
       "Kilometers_Driven     0\n",
       "Fuel_Type             0\n",
       "Transmission          0\n",
       "Owner_Type            0\n",
       "Mileage               0\n",
       "KM                    0\n",
       "Power                 0\n",
       "MM                   46\n",
       "Price                 0\n",
       "dtype: int64"
      ]
     },
     "execution_count": 137,
     "metadata": {},
     "output_type": "execute_result"
    }
   ],
   "source": [
    "df.isna().sum()"
   ]
  },
  {
   "cell_type": "code",
   "execution_count": 140,
   "id": "cab7820a-a3f4-4c34-8167-a85e9e017bfd",
   "metadata": {},
   "outputs": [],
   "source": [
    "df['MM'].fillna(df.MM.mode()[0], inplace=True)"
   ]
  },
  {
   "cell_type": "code",
   "execution_count": 141,
   "id": "1be7668b-cc1a-494b-9ec8-fe816aebfe1f",
   "metadata": {},
   "outputs": [
    {
     "data": {
      "text/plain": [
       "S.No.                0\n",
       "Name                 0\n",
       "Location             0\n",
       "Year                 0\n",
       "Kilometers_Driven    0\n",
       "Fuel_Type            0\n",
       "Transmission         0\n",
       "Owner_Type           0\n",
       "Mileage              0\n",
       "KM                   0\n",
       "Power                0\n",
       "MM                   0\n",
       "Price                0\n",
       "dtype: int64"
      ]
     },
     "execution_count": 141,
     "metadata": {},
     "output_type": "execute_result"
    }
   ],
   "source": [
    "df.isna().sum()"
   ]
  },
  {
   "cell_type": "code",
   "execution_count": 143,
   "id": "f4261eeb-e333-4b6a-8957-387798f21dc0",
   "metadata": {},
   "outputs": [
    {
     "data": {
      "text/plain": [
       "0"
      ]
     },
     "execution_count": 143,
     "metadata": {},
     "output_type": "execute_result"
    }
   ],
   "source": [
    "df.duplicated().sum()"
   ]
  },
  {
   "cell_type": "markdown",
   "id": "4e3277c6-01b7-420c-890c-3a278d2b185e",
   "metadata": {},
   "source": [
    "All the null values are handeled and there are no duplicates in the resultant dataframe."
   ]
  },
  {
   "cell_type": "markdown",
   "id": "207e0e1e-5806-491a-b3aa-219935058dd6",
   "metadata": {},
   "source": [
    "6.\tWhat is the range (min-max) of car prices?"
   ]
  },
  {
   "cell_type": "code",
   "execution_count": 163,
   "id": "54609271-7222-41b6-9e25-86acfb649aae",
   "metadata": {},
   "outputs": [
    {
     "name": "stdout",
     "output_type": "stream",
     "text": [
      "Minimum Price: 0.44\n"
     ]
    }
   ],
   "source": [
    "df.Price.min()\n",
    "print(f\"Minimum Price: {df['Price'].min()}\")"
   ]
  },
  {
   "cell_type": "code",
   "execution_count": 164,
   "id": "9c215d68-e589-4dfe-b4af-71da001482f2",
   "metadata": {},
   "outputs": [
    {
     "name": "stdout",
     "output_type": "stream",
     "text": [
      "Maximum Price: 160.0\n"
     ]
    }
   ],
   "source": [
    "df.Price.max()\n",
    "print(f\"Maximum Price: {df['Price'].max()}\")"
   ]
  },
  {
   "cell_type": "code",
   "execution_count": 146,
   "id": "f029c440-de91-41b6-85d2-3ecbe764c5c4",
   "metadata": {},
   "outputs": [
    {
     "data": {
      "text/html": [
       "<div>\n",
       "<style scoped>\n",
       "    .dataframe tbody tr th:only-of-type {\n",
       "        vertical-align: middle;\n",
       "    }\n",
       "\n",
       "    .dataframe tbody tr th {\n",
       "        vertical-align: top;\n",
       "    }\n",
       "\n",
       "    .dataframe thead th {\n",
       "        text-align: right;\n",
       "    }\n",
       "</style>\n",
       "<table border=\"1\" class=\"dataframe\">\n",
       "  <thead>\n",
       "    <tr style=\"text-align: right;\">\n",
       "      <th></th>\n",
       "      <th>S.No.</th>\n",
       "      <th>Year</th>\n",
       "      <th>Kilometers_Driven</th>\n",
       "      <th>Mileage</th>\n",
       "      <th>Power</th>\n",
       "      <th>Price</th>\n",
       "    </tr>\n",
       "  </thead>\n",
       "  <tbody>\n",
       "    <tr>\n",
       "      <th>count</th>\n",
       "      <td>7251.000000</td>\n",
       "      <td>7251.000000</td>\n",
       "      <td>7.251000e+03</td>\n",
       "      <td>7251.000000</td>\n",
       "      <td>7251.000000</td>\n",
       "      <td>7251.000000</td>\n",
       "    </tr>\n",
       "    <tr>\n",
       "      <th>mean</th>\n",
       "      <td>3625.710661</td>\n",
       "      <td>2013.365329</td>\n",
       "      <td>5.870229e+04</td>\n",
       "      <td>18.141580</td>\n",
       "      <td>112.780595</td>\n",
       "      <td>9.478340</td>\n",
       "    </tr>\n",
       "    <tr>\n",
       "      <th>std</th>\n",
       "      <td>2094.117927</td>\n",
       "      <td>3.254604</td>\n",
       "      <td>8.443913e+04</td>\n",
       "      <td>4.562197</td>\n",
       "      <td>52.842679</td>\n",
       "      <td>10.192945</td>\n",
       "    </tr>\n",
       "    <tr>\n",
       "      <th>min</th>\n",
       "      <td>0.000000</td>\n",
       "      <td>1996.000000</td>\n",
       "      <td>1.710000e+02</td>\n",
       "      <td>0.000000</td>\n",
       "      <td>34.200000</td>\n",
       "      <td>0.440000</td>\n",
       "    </tr>\n",
       "    <tr>\n",
       "      <th>25%</th>\n",
       "      <td>1812.500000</td>\n",
       "      <td>2011.000000</td>\n",
       "      <td>3.400000e+04</td>\n",
       "      <td>15.170000</td>\n",
       "      <td>77.500000</td>\n",
       "      <td>3.850000</td>\n",
       "    </tr>\n",
       "    <tr>\n",
       "      <th>50%</th>\n",
       "      <td>3625.000000</td>\n",
       "      <td>2014.000000</td>\n",
       "      <td>5.344200e+04</td>\n",
       "      <td>18.160000</td>\n",
       "      <td>98.600000</td>\n",
       "      <td>6.750000</td>\n",
       "    </tr>\n",
       "    <tr>\n",
       "      <th>75%</th>\n",
       "      <td>5439.500000</td>\n",
       "      <td>2016.000000</td>\n",
       "      <td>7.300000e+04</td>\n",
       "      <td>21.100000</td>\n",
       "      <td>138.030000</td>\n",
       "      <td>9.478340</td>\n",
       "    </tr>\n",
       "    <tr>\n",
       "      <th>max</th>\n",
       "      <td>7252.000000</td>\n",
       "      <td>2019.000000</td>\n",
       "      <td>6.500000e+06</td>\n",
       "      <td>33.540000</td>\n",
       "      <td>616.000000</td>\n",
       "      <td>160.000000</td>\n",
       "    </tr>\n",
       "  </tbody>\n",
       "</table>\n",
       "</div>"
      ],
      "text/plain": [
       "             S.No.         Year  Kilometers_Driven      Mileage        Power  \\\n",
       "count  7251.000000  7251.000000       7.251000e+03  7251.000000  7251.000000   \n",
       "mean   3625.710661  2013.365329       5.870229e+04    18.141580   112.780595   \n",
       "std    2094.117927     3.254604       8.443913e+04     4.562197    52.842679   \n",
       "min       0.000000  1996.000000       1.710000e+02     0.000000    34.200000   \n",
       "25%    1812.500000  2011.000000       3.400000e+04    15.170000    77.500000   \n",
       "50%    3625.000000  2014.000000       5.344200e+04    18.160000    98.600000   \n",
       "75%    5439.500000  2016.000000       7.300000e+04    21.100000   138.030000   \n",
       "max    7252.000000  2019.000000       6.500000e+06    33.540000   616.000000   \n",
       "\n",
       "             Price  \n",
       "count  7251.000000  \n",
       "mean      9.478340  \n",
       "std      10.192945  \n",
       "min       0.440000  \n",
       "25%       3.850000  \n",
       "50%       6.750000  \n",
       "75%       9.478340  \n",
       "max     160.000000  "
      ]
     },
     "execution_count": 146,
     "metadata": {},
     "output_type": "execute_result"
    }
   ],
   "source": [
    "df.describe()"
   ]
  },
  {
   "cell_type": "markdown",
   "id": "93e7b577-25fd-40eb-85aa-d55feb75235f",
   "metadata": {},
   "source": [
    "7.\tList the top 5 locations with the most cars listed."
   ]
  },
  {
   "cell_type": "code",
   "execution_count": 172,
   "id": "916b65b1-e5d8-4da1-ac9e-f1a34009e2f0",
   "metadata": {},
   "outputs": [
    {
     "name": "stdout",
     "output_type": "stream",
     "text": [
      "\n",
      "Top 5 locations with the most cars listed:\n"
     ]
    },
    {
     "data": {
      "text/html": [
       "<div>\n",
       "<style scoped>\n",
       "    .dataframe tbody tr th:only-of-type {\n",
       "        vertical-align: middle;\n",
       "    }\n",
       "\n",
       "    .dataframe tbody tr th {\n",
       "        vertical-align: top;\n",
       "    }\n",
       "\n",
       "    .dataframe thead th {\n",
       "        text-align: right;\n",
       "    }\n",
       "</style>\n",
       "<table border=\"1\" class=\"dataframe\">\n",
       "  <thead>\n",
       "    <tr style=\"text-align: right;\">\n",
       "      <th></th>\n",
       "      <th>index</th>\n",
       "      <th>Location</th>\n",
       "    </tr>\n",
       "  </thead>\n",
       "  <tbody>\n",
       "    <tr>\n",
       "      <th>0</th>\n",
       "      <td>Mumbai</td>\n",
       "      <td>948</td>\n",
       "    </tr>\n",
       "    <tr>\n",
       "      <th>1</th>\n",
       "      <td>Hyderabad</td>\n",
       "      <td>876</td>\n",
       "    </tr>\n",
       "    <tr>\n",
       "      <th>2</th>\n",
       "      <td>Coimbatore</td>\n",
       "      <td>772</td>\n",
       "    </tr>\n",
       "    <tr>\n",
       "      <th>3</th>\n",
       "      <td>Kochi</td>\n",
       "      <td>772</td>\n",
       "    </tr>\n",
       "    <tr>\n",
       "      <th>4</th>\n",
       "      <td>Pune</td>\n",
       "      <td>765</td>\n",
       "    </tr>\n",
       "  </tbody>\n",
       "</table>\n",
       "</div>"
      ],
      "text/plain": [
       "        index  Location\n",
       "0      Mumbai       948\n",
       "1   Hyderabad       876\n",
       "2  Coimbatore       772\n",
       "3       Kochi       772\n",
       "4        Pune       765"
      ]
     },
     "execution_count": 172,
     "metadata": {},
     "output_type": "execute_result"
    }
   ],
   "source": [
    "print(\"\\nTop 5 locations with the most cars listed:\")\n",
    "df.Location.value_counts().nlargest(5).reset_index()"
   ]
  },
  {
   "cell_type": "markdown",
   "id": "deca6e34-a222-4a75-95e6-f9c2bc5e18a8",
   "metadata": {},
   "source": [
    "8.\tWhich year has the highest number of cars listed?"
   ]
  },
  {
   "cell_type": "code",
   "execution_count": 173,
   "id": "4a40265e-df2e-4bdb-9535-a74e3bfb7a5c",
   "metadata": {},
   "outputs": [
    {
     "name": "stdout",
     "output_type": "stream",
     "text": [
      "\n",
      "Year with the highest number of cars listed:\n"
     ]
    },
    {
     "data": {
      "text/plain": [
       "2015"
      ]
     },
     "execution_count": 173,
     "metadata": {},
     "output_type": "execute_result"
    }
   ],
   "source": [
    "print(\"\\nYear with the highest number of cars listed:\")\n",
    "df.Year.value_counts().idxmax()"
   ]
  },
  {
   "cell_type": "markdown",
   "id": "fa4d2dcc-ef55-4348-b30d-ef804f6f6806",
   "metadata": {},
   "source": [
    "9.\tWhat is the distribution of transmission types in the dataset?"
   ]
  },
  {
   "cell_type": "code",
   "execution_count": 174,
   "id": "677b68dc-f0a2-4e51-b492-b5d2b3447828",
   "metadata": {},
   "outputs": [
    {
     "name": "stdout",
     "output_type": "stream",
     "text": [
      "\n",
      "Distribution of transmission types:\n"
     ]
    },
    {
     "data": {
      "text/plain": [
       "Manual       5204\n",
       "Automatic    2047\n",
       "Name: Transmission, dtype: int64"
      ]
     },
     "execution_count": 174,
     "metadata": {},
     "output_type": "execute_result"
    }
   ],
   "source": [
    "print(\"\\nDistribution of transmission types:\")\n",
    "df['Transmission'].value_counts()"
   ]
  },
  {
   "cell_type": "markdown",
   "id": "abfb4c9c-c891-434f-9e66-589742ce97b9",
   "metadata": {},
   "source": [
    "10.\tConvert 'Mileage' and 'Power' columns into float values. Write a code snippet for it."
   ]
  },
  {
   "cell_type": "code",
   "execution_count": 150,
   "id": "e5deb355-6502-4b03-82e4-3dcd70863ec1",
   "metadata": {},
   "outputs": [],
   "source": [
    "def convert_mileage_to_float(mileage):\n",
    "    if isinstance(mileage, str):\n",
    "        return float(mileage.split(' ')[0])\n",
    "    return mileage"
   ]
  },
  {
   "cell_type": "code",
   "execution_count": 151,
   "id": "f5c03630-04ed-4723-96d6-9454d7421c60",
   "metadata": {},
   "outputs": [],
   "source": [
    "def convert_power_to_float(power):\n",
    "    if isinstance(power, str):\n",
    "        return float(power.split(' ')[0])\n",
    "    return power"
   ]
  },
  {
   "cell_type": "code",
   "execution_count": 152,
   "id": "f7f10ad3-6128-48ad-a3d9-654f1dcbfc37",
   "metadata": {},
   "outputs": [],
   "source": [
    "df.Mileage = df.Mileage.apply(convert_mileage_to_float)"
   ]
  },
  {
   "cell_type": "code",
   "execution_count": 153,
   "id": "deba65d4-5257-4c37-a247-7131d27a3542",
   "metadata": {},
   "outputs": [],
   "source": [
    "df.Power = df.Power.apply(convert_power_to_float)"
   ]
  },
  {
   "cell_type": "code",
   "execution_count": 154,
   "id": "1c1962f8-0b68-42c4-9095-898d77b1e096",
   "metadata": {},
   "outputs": [
    {
     "data": {
      "text/plain": [
       "dtype('float64')"
      ]
     },
     "execution_count": 154,
     "metadata": {},
     "output_type": "execute_result"
    }
   ],
   "source": [
    "df.Mileage.dtype"
   ]
  },
  {
   "cell_type": "code",
   "execution_count": 155,
   "id": "d3bc2a36-5fad-4f21-aadd-d8ba44a8e8f7",
   "metadata": {},
   "outputs": [
    {
     "data": {
      "text/plain": [
       "dtype('float64')"
      ]
     },
     "execution_count": 155,
     "metadata": {},
     "output_type": "execute_result"
    }
   ],
   "source": [
    "df.Power.dtype"
   ]
  },
  {
   "cell_type": "markdown",
   "id": "de86bdf8-beec-4941-ad4c-b47046c24e31",
   "metadata": {},
   "source": [
    "## 📊 Grouping and Aggregation Questions"
   ]
  },
  {
   "cell_type": "markdown",
   "id": "825ff384-b4b0-4f4f-aad3-7fa8769a99c5",
   "metadata": {},
   "source": [
    "11.\tFind the average selling price of cars by Fuel_Type."
   ]
  },
  {
   "cell_type": "code",
   "execution_count": 176,
   "id": "22da75ce-6033-4594-b4d7-6620024c2606",
   "metadata": {},
   "outputs": [
    {
     "name": "stdout",
     "output_type": "stream",
     "text": [
      "\n",
      "Average selling price of cars by Fuel_Type:\n"
     ]
    },
    {
     "data": {
      "text/html": [
       "<div>\n",
       "<style scoped>\n",
       "    .dataframe tbody tr th:only-of-type {\n",
       "        vertical-align: middle;\n",
       "    }\n",
       "\n",
       "    .dataframe tbody tr th {\n",
       "        vertical-align: top;\n",
       "    }\n",
       "\n",
       "    .dataframe thead th {\n",
       "        text-align: right;\n",
       "    }\n",
       "</style>\n",
       "<table border=\"1\" class=\"dataframe\">\n",
       "  <thead>\n",
       "    <tr style=\"text-align: right;\">\n",
       "      <th></th>\n",
       "      <th>Fuel_Type</th>\n",
       "      <th>Price</th>\n",
       "    </tr>\n",
       "  </thead>\n",
       "  <tbody>\n",
       "    <tr>\n",
       "      <th>0</th>\n",
       "      <td>CNG</td>\n",
       "      <td>4.093710</td>\n",
       "    </tr>\n",
       "    <tr>\n",
       "      <th>1</th>\n",
       "      <td>Diesel</td>\n",
       "      <td>12.275863</td>\n",
       "    </tr>\n",
       "    <tr>\n",
       "      <th>2</th>\n",
       "      <td>LPG</td>\n",
       "      <td>3.652223</td>\n",
       "    </tr>\n",
       "    <tr>\n",
       "      <th>3</th>\n",
       "      <td>Petrol</td>\n",
       "      <td>6.358851</td>\n",
       "    </tr>\n",
       "  </tbody>\n",
       "</table>\n",
       "</div>"
      ],
      "text/plain": [
       "  Fuel_Type      Price\n",
       "0       CNG   4.093710\n",
       "1    Diesel  12.275863\n",
       "2       LPG   3.652223\n",
       "3    Petrol   6.358851"
      ]
     },
     "execution_count": 176,
     "metadata": {},
     "output_type": "execute_result"
    }
   ],
   "source": [
    "print(\"\\nAverage selling price of cars by Fuel_Type:\")\n",
    "df.groupby('Fuel_Type').Price.mean().reset_index()"
   ]
  },
  {
   "cell_type": "markdown",
   "id": "634ce7aa-3583-4601-8775-7276b70448b1",
   "metadata": {},
   "source": [
    "12.\tWhich city has the highest average car price?"
   ]
  },
  {
   "cell_type": "code",
   "execution_count": 177,
   "id": "2630c5a9-346f-4585-b730-d20681806eb1",
   "metadata": {},
   "outputs": [
    {
     "name": "stdout",
     "output_type": "stream",
     "text": [
      "\n",
      "City with the highest average car price:\n"
     ]
    },
    {
     "data": {
      "text/plain": [
       "'Coimbatore'"
      ]
     },
     "execution_count": 177,
     "metadata": {},
     "output_type": "execute_result"
    }
   ],
   "source": [
    "print(\"\\nCity with the highest average car price:\")\n",
    "df.groupby('Location').Price.mean().idxmax()"
   ]
  },
  {
   "cell_type": "markdown",
   "id": "1c104317-58ef-4181-b510-f82c4a9623b6",
   "metadata": {},
   "source": [
    "13.\tGroup the cars by Year and count how many cars were listed each year."
   ]
  },
  {
   "cell_type": "code",
   "execution_count": 178,
   "id": "25e08868-8719-44e8-8e78-72bf78286df3",
   "metadata": {},
   "outputs": [
    {
     "name": "stdout",
     "output_type": "stream",
     "text": [
      "\n",
      "Number of cars listed each year:\n"
     ]
    },
    {
     "data": {
      "text/html": [
       "<div>\n",
       "<style scoped>\n",
       "    .dataframe tbody tr th:only-of-type {\n",
       "        vertical-align: middle;\n",
       "    }\n",
       "\n",
       "    .dataframe tbody tr th {\n",
       "        vertical-align: top;\n",
       "    }\n",
       "\n",
       "    .dataframe thead th {\n",
       "        text-align: right;\n",
       "    }\n",
       "</style>\n",
       "<table border=\"1\" class=\"dataframe\">\n",
       "  <thead>\n",
       "    <tr style=\"text-align: right;\">\n",
       "      <th></th>\n",
       "      <th>Year</th>\n",
       "      <th>Name</th>\n",
       "    </tr>\n",
       "  </thead>\n",
       "  <tbody>\n",
       "    <tr>\n",
       "      <th>0</th>\n",
       "      <td>2016</td>\n",
       "      <td>513</td>\n",
       "    </tr>\n",
       "    <tr>\n",
       "      <th>1</th>\n",
       "      <td>2015</td>\n",
       "      <td>507</td>\n",
       "    </tr>\n",
       "    <tr>\n",
       "      <th>2</th>\n",
       "      <td>2014</td>\n",
       "      <td>477</td>\n",
       "    </tr>\n",
       "    <tr>\n",
       "      <th>3</th>\n",
       "      <td>2017</td>\n",
       "      <td>447</td>\n",
       "    </tr>\n",
       "    <tr>\n",
       "      <th>4</th>\n",
       "      <td>2013</td>\n",
       "      <td>427</td>\n",
       "    </tr>\n",
       "    <tr>\n",
       "      <th>5</th>\n",
       "      <td>2012</td>\n",
       "      <td>381</td>\n",
       "    </tr>\n",
       "    <tr>\n",
       "      <th>6</th>\n",
       "      <td>2011</td>\n",
       "      <td>331</td>\n",
       "    </tr>\n",
       "    <tr>\n",
       "      <th>7</th>\n",
       "      <td>2018</td>\n",
       "      <td>269</td>\n",
       "    </tr>\n",
       "    <tr>\n",
       "      <th>8</th>\n",
       "      <td>2010</td>\n",
       "      <td>257</td>\n",
       "    </tr>\n",
       "    <tr>\n",
       "      <th>9</th>\n",
       "      <td>2009</td>\n",
       "      <td>163</td>\n",
       "    </tr>\n",
       "    <tr>\n",
       "      <th>10</th>\n",
       "      <td>2008</td>\n",
       "      <td>153</td>\n",
       "    </tr>\n",
       "    <tr>\n",
       "      <th>11</th>\n",
       "      <td>2007</td>\n",
       "      <td>109</td>\n",
       "    </tr>\n",
       "    <tr>\n",
       "      <th>12</th>\n",
       "      <td>2019</td>\n",
       "      <td>108</td>\n",
       "    </tr>\n",
       "    <tr>\n",
       "      <th>13</th>\n",
       "      <td>2006</td>\n",
       "      <td>71</td>\n",
       "    </tr>\n",
       "    <tr>\n",
       "      <th>14</th>\n",
       "      <td>2005</td>\n",
       "      <td>52</td>\n",
       "    </tr>\n",
       "    <tr>\n",
       "      <th>15</th>\n",
       "      <td>2004</td>\n",
       "      <td>32</td>\n",
       "    </tr>\n",
       "    <tr>\n",
       "      <th>16</th>\n",
       "      <td>2003</td>\n",
       "      <td>19</td>\n",
       "    </tr>\n",
       "    <tr>\n",
       "      <th>17</th>\n",
       "      <td>2002</td>\n",
       "      <td>16</td>\n",
       "    </tr>\n",
       "    <tr>\n",
       "      <th>18</th>\n",
       "      <td>2001</td>\n",
       "      <td>8</td>\n",
       "    </tr>\n",
       "    <tr>\n",
       "      <th>19</th>\n",
       "      <td>2000</td>\n",
       "      <td>5</td>\n",
       "    </tr>\n",
       "    <tr>\n",
       "      <th>20</th>\n",
       "      <td>1998</td>\n",
       "      <td>4</td>\n",
       "    </tr>\n",
       "    <tr>\n",
       "      <th>21</th>\n",
       "      <td>1999</td>\n",
       "      <td>2</td>\n",
       "    </tr>\n",
       "    <tr>\n",
       "      <th>22</th>\n",
       "      <td>1996</td>\n",
       "      <td>1</td>\n",
       "    </tr>\n",
       "  </tbody>\n",
       "</table>\n",
       "</div>"
      ],
      "text/plain": [
       "    Year  Name\n",
       "0   2016   513\n",
       "1   2015   507\n",
       "2   2014   477\n",
       "3   2017   447\n",
       "4   2013   427\n",
       "5   2012   381\n",
       "6   2011   331\n",
       "7   2018   269\n",
       "8   2010   257\n",
       "9   2009   163\n",
       "10  2008   153\n",
       "11  2007   109\n",
       "12  2019   108\n",
       "13  2006    71\n",
       "14  2005    52\n",
       "15  2004    32\n",
       "16  2003    19\n",
       "17  2002    16\n",
       "18  2001     8\n",
       "19  2000     5\n",
       "20  1998     4\n",
       "21  1999     2\n",
       "22  1996     1"
      ]
     },
     "execution_count": 178,
     "metadata": {},
     "output_type": "execute_result"
    }
   ],
   "source": [
    "print(\"\\nNumber of cars listed each year:\")\n",
    "df.groupby('Year').Name.nunique().sort_values(ascending=False).reset_index()"
   ]
  },
  {
   "cell_type": "code",
   "execution_count": 179,
   "id": "40f68e19-3ac4-41ef-bd8b-b2313ebae15f",
   "metadata": {},
   "outputs": [
    {
     "name": "stdout",
     "output_type": "stream",
     "text": [
      "\n",
      "Number of cars listed each year:\n"
     ]
    },
    {
     "data": {
      "text/html": [
       "<div>\n",
       "<style scoped>\n",
       "    .dataframe tbody tr th:only-of-type {\n",
       "        vertical-align: middle;\n",
       "    }\n",
       "\n",
       "    .dataframe tbody tr th {\n",
       "        vertical-align: top;\n",
       "    }\n",
       "\n",
       "    .dataframe thead th {\n",
       "        text-align: right;\n",
       "    }\n",
       "</style>\n",
       "<table border=\"1\" class=\"dataframe\">\n",
       "  <thead>\n",
       "    <tr style=\"text-align: right;\">\n",
       "      <th></th>\n",
       "      <th>Year</th>\n",
       "      <th>Name</th>\n",
       "    </tr>\n",
       "  </thead>\n",
       "  <tbody>\n",
       "    <tr>\n",
       "      <th>0</th>\n",
       "      <td>2015</td>\n",
       "      <td>929</td>\n",
       "    </tr>\n",
       "    <tr>\n",
       "      <th>1</th>\n",
       "      <td>2014</td>\n",
       "      <td>925</td>\n",
       "    </tr>\n",
       "    <tr>\n",
       "      <th>2</th>\n",
       "      <td>2016</td>\n",
       "      <td>885</td>\n",
       "    </tr>\n",
       "    <tr>\n",
       "      <th>3</th>\n",
       "      <td>2013</td>\n",
       "      <td>791</td>\n",
       "    </tr>\n",
       "    <tr>\n",
       "      <th>4</th>\n",
       "      <td>2017</td>\n",
       "      <td>709</td>\n",
       "    </tr>\n",
       "    <tr>\n",
       "      <th>5</th>\n",
       "      <td>2012</td>\n",
       "      <td>690</td>\n",
       "    </tr>\n",
       "    <tr>\n",
       "      <th>6</th>\n",
       "      <td>2011</td>\n",
       "      <td>578</td>\n",
       "    </tr>\n",
       "    <tr>\n",
       "      <th>7</th>\n",
       "      <td>2010</td>\n",
       "      <td>407</td>\n",
       "    </tr>\n",
       "    <tr>\n",
       "      <th>8</th>\n",
       "      <td>2018</td>\n",
       "      <td>361</td>\n",
       "    </tr>\n",
       "    <tr>\n",
       "      <th>9</th>\n",
       "      <td>2009</td>\n",
       "      <td>252</td>\n",
       "    </tr>\n",
       "    <tr>\n",
       "      <th>10</th>\n",
       "      <td>2008</td>\n",
       "      <td>207</td>\n",
       "    </tr>\n",
       "    <tr>\n",
       "      <th>11</th>\n",
       "      <td>2007</td>\n",
       "      <td>148</td>\n",
       "    </tr>\n",
       "    <tr>\n",
       "      <th>12</th>\n",
       "      <td>2019</td>\n",
       "      <td>119</td>\n",
       "    </tr>\n",
       "    <tr>\n",
       "      <th>13</th>\n",
       "      <td>2006</td>\n",
       "      <td>89</td>\n",
       "    </tr>\n",
       "    <tr>\n",
       "      <th>14</th>\n",
       "      <td>2005</td>\n",
       "      <td>68</td>\n",
       "    </tr>\n",
       "    <tr>\n",
       "      <th>15</th>\n",
       "      <td>2004</td>\n",
       "      <td>35</td>\n",
       "    </tr>\n",
       "    <tr>\n",
       "      <th>16</th>\n",
       "      <td>2003</td>\n",
       "      <td>20</td>\n",
       "    </tr>\n",
       "    <tr>\n",
       "      <th>17</th>\n",
       "      <td>2002</td>\n",
       "      <td>18</td>\n",
       "    </tr>\n",
       "    <tr>\n",
       "      <th>18</th>\n",
       "      <td>2001</td>\n",
       "      <td>8</td>\n",
       "    </tr>\n",
       "    <tr>\n",
       "      <th>19</th>\n",
       "      <td>2000</td>\n",
       "      <td>5</td>\n",
       "    </tr>\n",
       "    <tr>\n",
       "      <th>20</th>\n",
       "      <td>1998</td>\n",
       "      <td>4</td>\n",
       "    </tr>\n",
       "    <tr>\n",
       "      <th>21</th>\n",
       "      <td>1999</td>\n",
       "      <td>2</td>\n",
       "    </tr>\n",
       "    <tr>\n",
       "      <th>22</th>\n",
       "      <td>1996</td>\n",
       "      <td>1</td>\n",
       "    </tr>\n",
       "  </tbody>\n",
       "</table>\n",
       "</div>"
      ],
      "text/plain": [
       "    Year  Name\n",
       "0   2015   929\n",
       "1   2014   925\n",
       "2   2016   885\n",
       "3   2013   791\n",
       "4   2017   709\n",
       "5   2012   690\n",
       "6   2011   578\n",
       "7   2010   407\n",
       "8   2018   361\n",
       "9   2009   252\n",
       "10  2008   207\n",
       "11  2007   148\n",
       "12  2019   119\n",
       "13  2006    89\n",
       "14  2005    68\n",
       "15  2004    35\n",
       "16  2003    20\n",
       "17  2002    18\n",
       "18  2001     8\n",
       "19  2000     5\n",
       "20  1998     4\n",
       "21  1999     2\n",
       "22  1996     1"
      ]
     },
     "execution_count": 179,
     "metadata": {},
     "output_type": "execute_result"
    }
   ],
   "source": [
    "print(\"\\nNumber of cars listed each year:\")\n",
    "df.groupby('Year').Name.size().sort_values(ascending=False).reset_index()"
   ]
  },
  {
   "cell_type": "markdown",
   "id": "75bbfdcc-d558-44dc-87f0-e36e1cb8ee0a",
   "metadata": {},
   "source": [
    "14.\tCalculate the average mileage for each transmission type."
   ]
  },
  {
   "cell_type": "code",
   "execution_count": 180,
   "id": "03497efc-9390-4750-85c8-d4fb19b2701e",
   "metadata": {},
   "outputs": [
    {
     "name": "stdout",
     "output_type": "stream",
     "text": [
      "\n",
      "Average mileage for each transmission type:\n"
     ]
    },
    {
     "data": {
      "text/html": [
       "<div>\n",
       "<style scoped>\n",
       "    .dataframe tbody tr th:only-of-type {\n",
       "        vertical-align: middle;\n",
       "    }\n",
       "\n",
       "    .dataframe tbody tr th {\n",
       "        vertical-align: top;\n",
       "    }\n",
       "\n",
       "    .dataframe thead th {\n",
       "        text-align: right;\n",
       "    }\n",
       "</style>\n",
       "<table border=\"1\" class=\"dataframe\">\n",
       "  <thead>\n",
       "    <tr style=\"text-align: right;\">\n",
       "      <th></th>\n",
       "      <th>Transmission</th>\n",
       "      <th>Mileage</th>\n",
       "    </tr>\n",
       "  </thead>\n",
       "  <tbody>\n",
       "    <tr>\n",
       "      <th>0</th>\n",
       "      <td>Automatic</td>\n",
       "      <td>15.757084</td>\n",
       "    </tr>\n",
       "    <tr>\n",
       "      <th>1</th>\n",
       "      <td>Manual</td>\n",
       "      <td>19.079525</td>\n",
       "    </tr>\n",
       "  </tbody>\n",
       "</table>\n",
       "</div>"
      ],
      "text/plain": [
       "  Transmission    Mileage\n",
       "0    Automatic  15.757084\n",
       "1       Manual  19.079525"
      ]
     },
     "execution_count": 180,
     "metadata": {},
     "output_type": "execute_result"
    }
   ],
   "source": [
    "print(\"\\nAverage mileage for each transmission type:\")\n",
    "df.groupby('Transmission').Mileage.mean().reset_index()"
   ]
  },
  {
   "cell_type": "markdown",
   "id": "7fc655c0-2104-4783-9d39-0c8efae1178f",
   "metadata": {},
   "source": [
    "15.\tWhich car model has the highest average price?"
   ]
  },
  {
   "cell_type": "code",
   "execution_count": 181,
   "id": "6c11e454-6d5d-4276-9fbb-761c05b52a4b",
   "metadata": {},
   "outputs": [
    {
     "name": "stdout",
     "output_type": "stream",
     "text": [
      "\n",
      "Car model with the highest average price:\n"
     ]
    },
    {
     "data": {
      "text/plain": [
       "'Land Rover Range Rover 3.0 Diesel LWB Vogue'"
      ]
     },
     "execution_count": 181,
     "metadata": {},
     "output_type": "execute_result"
    }
   ],
   "source": [
    "print(\"\\nCar model with the highest average price:\")\n",
    "df.groupby('Name').Price.mean().idxmax()"
   ]
  },
  {
   "cell_type": "markdown",
   "id": "b7a9224d-426e-491f-80ce-b8e0e44300e5",
   "metadata": {},
   "source": [
    "16.\tGroup by Owner_Type and find the average kilometers driven."
   ]
  },
  {
   "cell_type": "code",
   "execution_count": 182,
   "id": "e934f048-6b22-41c6-899b-5e5504c22a52",
   "metadata": {},
   "outputs": [
    {
     "name": "stdout",
     "output_type": "stream",
     "text": [
      "\n",
      "Average kilometers driven by Owner_Type:\n"
     ]
    },
    {
     "data": {
      "text/html": [
       "<div>\n",
       "<style scoped>\n",
       "    .dataframe tbody tr th:only-of-type {\n",
       "        vertical-align: middle;\n",
       "    }\n",
       "\n",
       "    .dataframe tbody tr th {\n",
       "        vertical-align: top;\n",
       "    }\n",
       "\n",
       "    .dataframe thead th {\n",
       "        text-align: right;\n",
       "    }\n",
       "</style>\n",
       "<table border=\"1\" class=\"dataframe\">\n",
       "  <thead>\n",
       "    <tr style=\"text-align: right;\">\n",
       "      <th></th>\n",
       "      <th>Owner_Type</th>\n",
       "      <th>Kilometers_Driven</th>\n",
       "    </tr>\n",
       "  </thead>\n",
       "  <tbody>\n",
       "    <tr>\n",
       "      <th>0</th>\n",
       "      <td>First</td>\n",
       "      <td>55258.138824</td>\n",
       "    </tr>\n",
       "    <tr>\n",
       "      <th>1</th>\n",
       "      <td>Fourth &amp; Above</td>\n",
       "      <td>119756.500000</td>\n",
       "    </tr>\n",
       "    <tr>\n",
       "      <th>2</th>\n",
       "      <td>Second</td>\n",
       "      <td>72433.625868</td>\n",
       "    </tr>\n",
       "    <tr>\n",
       "      <th>3</th>\n",
       "      <td>Third</td>\n",
       "      <td>87472.729927</td>\n",
       "    </tr>\n",
       "  </tbody>\n",
       "</table>\n",
       "</div>"
      ],
      "text/plain": [
       "       Owner_Type  Kilometers_Driven\n",
       "0           First       55258.138824\n",
       "1  Fourth & Above      119756.500000\n",
       "2          Second       72433.625868\n",
       "3           Third       87472.729927"
      ]
     },
     "execution_count": 182,
     "metadata": {},
     "output_type": "execute_result"
    }
   ],
   "source": [
    "print(\"\\nAverage kilometers driven by Owner_Type:\")\n",
    "df.groupby('Owner_Type').Kilometers_Driven.mean().reset_index()"
   ]
  },
  {
   "cell_type": "markdown",
   "id": "897ec913-f8db-498c-bd14-e142ea73f117",
   "metadata": {},
   "source": [
    "17.\tWhat is the average power (bhp) of diesel vs petrol cars?"
   ]
  },
  {
   "cell_type": "code",
   "execution_count": 183,
   "id": "aebc51a3-3a87-4206-9c57-777e5bb71d39",
   "metadata": {},
   "outputs": [
    {
     "name": "stdout",
     "output_type": "stream",
     "text": [
      "\n",
      "Average power (bhp) of diesel vs petrol cars:\n"
     ]
    },
    {
     "data": {
      "text/html": [
       "<div>\n",
       "<style scoped>\n",
       "    .dataframe tbody tr th:only-of-type {\n",
       "        vertical-align: middle;\n",
       "    }\n",
       "\n",
       "    .dataframe tbody tr th {\n",
       "        vertical-align: top;\n",
       "    }\n",
       "\n",
       "    .dataframe thead th {\n",
       "        text-align: right;\n",
       "    }\n",
       "</style>\n",
       "<table border=\"1\" class=\"dataframe\">\n",
       "  <thead>\n",
       "    <tr style=\"text-align: right;\">\n",
       "      <th></th>\n",
       "      <th>Fuel_Type</th>\n",
       "      <th>Power</th>\n",
       "    </tr>\n",
       "  </thead>\n",
       "  <tbody>\n",
       "    <tr>\n",
       "      <th>0</th>\n",
       "      <td>Diesel</td>\n",
       "      <td>126.949764</td>\n",
       "    </tr>\n",
       "    <tr>\n",
       "      <th>1</th>\n",
       "      <td>Petrol</td>\n",
       "      <td>97.436329</td>\n",
       "    </tr>\n",
       "  </tbody>\n",
       "</table>\n",
       "</div>"
      ],
      "text/plain": [
       "  Fuel_Type       Power\n",
       "0    Diesel  126.949764\n",
       "1    Petrol   97.436329"
      ]
     },
     "execution_count": 183,
     "metadata": {},
     "output_type": "execute_result"
    }
   ],
   "source": [
    "print(\"\\nAverage power (bhp) of diesel vs petrol cars:\")\n",
    "df.groupby('Fuel_Type').Power.mean()[['Diesel','Petrol']].reset_index()"
   ]
  },
  {
   "cell_type": "markdown",
   "id": "4384d2e9-1554-4515-a8aa-77b82d0c52f2",
   "metadata": {},
   "source": [
    "18.\tGroup the cars by 'Fuel_Type' and 'Transmission' and calculate the mean price."
   ]
  },
  {
   "cell_type": "code",
   "execution_count": 184,
   "id": "34686dbb-f274-44d9-975d-68051df15152",
   "metadata": {},
   "outputs": [
    {
     "name": "stdout",
     "output_type": "stream",
     "text": [
      "\n",
      "Mean price by Fuel_Type and Transmission:\n"
     ]
    },
    {
     "data": {
      "text/html": [
       "<div>\n",
       "<style scoped>\n",
       "    .dataframe tbody tr th:only-of-type {\n",
       "        vertical-align: middle;\n",
       "    }\n",
       "\n",
       "    .dataframe tbody tr th {\n",
       "        vertical-align: top;\n",
       "    }\n",
       "\n",
       "    .dataframe thead th {\n",
       "        text-align: right;\n",
       "    }\n",
       "</style>\n",
       "<table border=\"1\" class=\"dataframe\">\n",
       "  <thead>\n",
       "    <tr style=\"text-align: right;\">\n",
       "      <th></th>\n",
       "      <th>Fuel_Type</th>\n",
       "      <th>Transmission</th>\n",
       "      <th>Price</th>\n",
       "    </tr>\n",
       "  </thead>\n",
       "  <tbody>\n",
       "    <tr>\n",
       "      <th>0</th>\n",
       "      <td>CNG</td>\n",
       "      <td>Manual</td>\n",
       "      <td>4.093710</td>\n",
       "    </tr>\n",
       "    <tr>\n",
       "      <th>1</th>\n",
       "      <td>Diesel</td>\n",
       "      <td>Automatic</td>\n",
       "      <td>22.186046</td>\n",
       "    </tr>\n",
       "    <tr>\n",
       "      <th>2</th>\n",
       "      <td>Diesel</td>\n",
       "      <td>Manual</td>\n",
       "      <td>7.127259</td>\n",
       "    </tr>\n",
       "    <tr>\n",
       "      <th>3</th>\n",
       "      <td>LPG</td>\n",
       "      <td>Manual</td>\n",
       "      <td>3.652223</td>\n",
       "    </tr>\n",
       "    <tr>\n",
       "      <th>4</th>\n",
       "      <td>Petrol</td>\n",
       "      <td>Automatic</td>\n",
       "      <td>10.966070</td>\n",
       "    </tr>\n",
       "    <tr>\n",
       "      <th>5</th>\n",
       "      <td>Petrol</td>\n",
       "      <td>Manual</td>\n",
       "      <td>5.062793</td>\n",
       "    </tr>\n",
       "  </tbody>\n",
       "</table>\n",
       "</div>"
      ],
      "text/plain": [
       "  Fuel_Type Transmission      Price\n",
       "0       CNG       Manual   4.093710\n",
       "1    Diesel    Automatic  22.186046\n",
       "2    Diesel       Manual   7.127259\n",
       "3       LPG       Manual   3.652223\n",
       "4    Petrol    Automatic  10.966070\n",
       "5    Petrol       Manual   5.062793"
      ]
     },
     "execution_count": 184,
     "metadata": {},
     "output_type": "execute_result"
    }
   ],
   "source": [
    "print(\"\\nMean price by Fuel_Type and Transmission:\")\n",
    "df.groupby(['Fuel_Type','Transmission']).Price.mean().reset_index()"
   ]
  },
  {
   "cell_type": "markdown",
   "id": "5d129671-1e35-49a4-b5c9-eec4daef54e0",
   "metadata": {},
   "source": [
    "19.\tWhich Owner_Type has the highest average resale value?"
   ]
  },
  {
   "cell_type": "code",
   "execution_count": 185,
   "id": "499fbcdb-3af9-4002-8a29-79a0f77ebf70",
   "metadata": {},
   "outputs": [
    {
     "name": "stdout",
     "output_type": "stream",
     "text": [
      "\n",
      "Owner_Type with the highest average resale value:\n"
     ]
    },
    {
     "data": {
      "text/plain": [
       "'First'"
      ]
     },
     "execution_count": 185,
     "metadata": {},
     "output_type": "execute_result"
    }
   ],
   "source": [
    "print(\"\\nOwner_Type with the highest average resale value:\")\n",
    "df.groupby('Owner_Type').Price.mean().idxmax()"
   ]
  },
  {
   "cell_type": "markdown",
   "id": "5a42deeb-adff-4850-a96c-546c72ac80b1",
   "metadata": {},
   "source": [
    "20.\tFor each city, what is the average price of automatic cars?"
   ]
  },
  {
   "cell_type": "code",
   "execution_count": 186,
   "id": "dedba572-1584-4510-ab76-cfa4970a2c9b",
   "metadata": {},
   "outputs": [
    {
     "name": "stdout",
     "output_type": "stream",
     "text": [
      "\n",
      "Average price of automatic cars in each city:\n"
     ]
    },
    {
     "data": {
      "text/html": [
       "<div>\n",
       "<style scoped>\n",
       "    .dataframe tbody tr th:only-of-type {\n",
       "        vertical-align: middle;\n",
       "    }\n",
       "\n",
       "    .dataframe tbody tr th {\n",
       "        vertical-align: top;\n",
       "    }\n",
       "\n",
       "    .dataframe thead th {\n",
       "        text-align: right;\n",
       "    }\n",
       "</style>\n",
       "<table border=\"1\" class=\"dataframe\">\n",
       "  <thead>\n",
       "    <tr style=\"text-align: right;\">\n",
       "      <th></th>\n",
       "      <th>Location</th>\n",
       "      <th>Price</th>\n",
       "    </tr>\n",
       "  </thead>\n",
       "  <tbody>\n",
       "    <tr>\n",
       "      <th>0</th>\n",
       "      <td>Ahmedabad</td>\n",
       "      <td>15.406622</td>\n",
       "    </tr>\n",
       "    <tr>\n",
       "      <th>1</th>\n",
       "      <td>Bangalore</td>\n",
       "      <td>21.351631</td>\n",
       "    </tr>\n",
       "    <tr>\n",
       "      <th>2</th>\n",
       "      <td>Chennai</td>\n",
       "      <td>16.469433</td>\n",
       "    </tr>\n",
       "    <tr>\n",
       "      <th>3</th>\n",
       "      <td>Coimbatore</td>\n",
       "      <td>23.474413</td>\n",
       "    </tr>\n",
       "    <tr>\n",
       "      <th>4</th>\n",
       "      <td>Delhi</td>\n",
       "      <td>18.320369</td>\n",
       "    </tr>\n",
       "    <tr>\n",
       "      <th>5</th>\n",
       "      <td>Hyderabad</td>\n",
       "      <td>19.452458</td>\n",
       "    </tr>\n",
       "    <tr>\n",
       "      <th>6</th>\n",
       "      <td>Jaipur</td>\n",
       "      <td>13.565861</td>\n",
       "    </tr>\n",
       "    <tr>\n",
       "      <th>7</th>\n",
       "      <td>Kochi</td>\n",
       "      <td>19.773647</td>\n",
       "    </tr>\n",
       "    <tr>\n",
       "      <th>8</th>\n",
       "      <td>Kolkata</td>\n",
       "      <td>14.957576</td>\n",
       "    </tr>\n",
       "    <tr>\n",
       "      <th>9</th>\n",
       "      <td>Mumbai</td>\n",
       "      <td>15.024852</td>\n",
       "    </tr>\n",
       "    <tr>\n",
       "      <th>10</th>\n",
       "      <td>Pune</td>\n",
       "      <td>13.762121</td>\n",
       "    </tr>\n",
       "  </tbody>\n",
       "</table>\n",
       "</div>"
      ],
      "text/plain": [
       "      Location      Price\n",
       "0    Ahmedabad  15.406622\n",
       "1    Bangalore  21.351631\n",
       "2      Chennai  16.469433\n",
       "3   Coimbatore  23.474413\n",
       "4        Delhi  18.320369\n",
       "5    Hyderabad  19.452458\n",
       "6       Jaipur  13.565861\n",
       "7        Kochi  19.773647\n",
       "8      Kolkata  14.957576\n",
       "9       Mumbai  15.024852\n",
       "10        Pune  13.762121"
      ]
     },
     "execution_count": 186,
     "metadata": {},
     "output_type": "execute_result"
    }
   ],
   "source": [
    "print(\"\\nAverage price of automatic cars in each city:\")\n",
    "automatic_cars = df[df['Transmission'] == 'Automatic']\n",
    "automatic_cars.groupby('Location').Price.mean().reset_index()"
   ]
  }
 ],
 "metadata": {
  "kernelspec": {
   "display_name": "Python 3 (ipykernel)",
   "language": "python",
   "name": "python3"
  },
  "language_info": {
   "codemirror_mode": {
    "name": "ipython",
    "version": 3
   },
   "file_extension": ".py",
   "mimetype": "text/x-python",
   "name": "python",
   "nbconvert_exporter": "python",
   "pygments_lexer": "ipython3",
   "version": "3.11.0"
  }
 },
 "nbformat": 4,
 "nbformat_minor": 5
}
